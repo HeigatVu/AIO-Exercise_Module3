{
 "cells": [
  {
   "cell_type": "markdown",
   "metadata": {},
   "source": [
    "# Question 6"
   ]
  },
  {
   "cell_type": "code",
   "execution_count": 2,
   "metadata": {},
   "outputs": [
    {
     "name": "stdout",
     "output_type": "stream",
     "text": [
      "  Split Condition   MSE\n",
      "0          X <= 3  28.0\n",
      "1          X <= 5  12.8\n",
      "2          X <= 8  27.2\n",
      "3         X <= 10  47.2\n"
     ]
    }
   ],
   "source": [
    "import numpy as np\n",
    "import pandas as pd\n",
    "\n",
    "# Given dataset\n",
    "data = pd.DataFrame({\n",
    "    'X': [3, 5, 8, 10, 12],\n",
    "    'Y': [12, 20, 28, 32, 36]\n",
    "})\n",
    "\n",
    "# Function to calculate MSE for a split\n",
    "def mse_split(data, split_value):\n",
    "    left = data[data['X'] <= split_value]\n",
    "    right = data[data['X'] > split_value]\n",
    "    \n",
    "    # If one side is empty, return infinity as MSE\n",
    "    if len(left) == 0 or len(right) == 0:\n",
    "        return float('inf')\n",
    "    \n",
    "    left_mean = left['Y'].mean()\n",
    "    right_mean = right['Y'].mean()\n",
    "    \n",
    "    left_mse = ((left['Y'] - left_mean) ** 2).mean()\n",
    "    right_mse = ((right['Y'] - right_mean) ** 2).mean()\n",
    "    \n",
    "    total_mse = (len(left) * left_mse + len(right) * right_mse) / len(data)\n",
    "    return total_mse\n",
    "\n",
    "# Possible split conditions\n",
    "split_values = [3, 5, 8, 10]\n",
    "\n",
    "# Calculate MSE for each split\n",
    "mse_results = {f\"X <= {split}\": mse_split(data, split) for split in split_values}\n",
    "\n",
    "# Convert to DataFrame for better readability\n",
    "mse_results_df = pd.DataFrame(list(mse_results.items()), columns=['Split Condition', 'MSE'])\n",
    "\n",
    "print(mse_results_df)\n"
   ]
  }
 ],
 "metadata": {
  "kernelspec": {
   "display_name": "aio2024-hw",
   "language": "python",
   "name": "python3"
  },
  "language_info": {
   "codemirror_mode": {
    "name": "ipython",
    "version": 3
   },
   "file_extension": ".py",
   "mimetype": "text/x-python",
   "name": "python",
   "nbconvert_exporter": "python",
   "pygments_lexer": "ipython3",
   "version": "3.11.9"
  }
 },
 "nbformat": 4,
 "nbformat_minor": 2
}
